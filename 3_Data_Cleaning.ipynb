{
 "cells": [
  {
   "cell_type": "code",
   "id": "initial_id",
   "metadata": {
    "collapsed": true,
    "ExecuteTime": {
     "end_time": "2025-06-30T13:34:54.416212Z",
     "start_time": "2025-06-30T13:34:54.411018Z"
    }
   },
   "source": [
    "import pandas as pd\n",
    "import numpy as np"
   ],
   "outputs": [],
   "execution_count": 2
  },
  {
   "metadata": {
    "ExecuteTime": {
     "end_time": "2025-06-30T13:37:26.570699Z",
     "start_time": "2025-06-30T13:37:26.172379Z"
    }
   },
   "cell_type": "code",
   "source": [
    "df = pd.read_csv('C:\\\\Users\\\\athar\\PycharmProjects\\Data_Analytics\\\\1_Dataset.csv')\n",
    "print(df.head())\n",
    "print(df.describe())"
   ],
   "id": "98f3b764e09b7da2",
   "outputs": [
    {
     "name": "stderr",
     "output_type": "stream",
     "text": [
      "<>:1: SyntaxWarning: invalid escape sequence '\\P'\n",
      "<>:1: SyntaxWarning: invalid escape sequence '\\P'\n",
      "C:\\Users\\athar\\AppData\\Local\\Temp\\ipykernel_1728\\1825914310.py:1: SyntaxWarning: invalid escape sequence '\\P'\n",
      "  df = pd.read_csv('C:\\\\Users\\\\athar\\PycharmProjects\\Data_Analytics\\\\1_Dataset.csv')\n"
     ]
    },
    {
     "name": "stdout",
     "output_type": "stream",
     "text": [
      "       country  year iso_code  population  gdp  cement_co2  \\\n",
      "0  Afghanistan  1750      AFG   2802560.0  NaN         0.0   \n",
      "1  Afghanistan  1751      AFG         NaN  NaN         0.0   \n",
      "2  Afghanistan  1752      AFG         NaN  NaN         0.0   \n",
      "3  Afghanistan  1753      AFG         NaN  NaN         0.0   \n",
      "4  Afghanistan  1754      AFG         NaN  NaN         0.0   \n",
      "\n",
      "   cement_co2_per_capita  co2  co2_growth_abs  co2_growth_prct  ...  \\\n",
      "0                    0.0  NaN             NaN              NaN  ...   \n",
      "1                    NaN  NaN             NaN              NaN  ...   \n",
      "2                    NaN  NaN             NaN              NaN  ...   \n",
      "3                    NaN  NaN             NaN              NaN  ...   \n",
      "4                    NaN  NaN             NaN              NaN  ...   \n",
      "\n",
      "   share_global_other_co2  share_of_temperature_change_from_ghg  \\\n",
      "0                     NaN                                   NaN   \n",
      "1                     NaN                                   NaN   \n",
      "2                     NaN                                   NaN   \n",
      "3                     NaN                                   NaN   \n",
      "4                     NaN                                   NaN   \n",
      "\n",
      "   temperature_change_from_ch4  temperature_change_from_co2  \\\n",
      "0                          NaN                          NaN   \n",
      "1                          NaN                          NaN   \n",
      "2                          NaN                          NaN   \n",
      "3                          NaN                          NaN   \n",
      "4                          NaN                          NaN   \n",
      "\n",
      "   temperature_change_from_ghg  temperature_change_from_n2o  total_ghg  \\\n",
      "0                          NaN                          NaN        NaN   \n",
      "1                          NaN                          NaN        NaN   \n",
      "2                          NaN                          NaN        NaN   \n",
      "3                          NaN                          NaN        NaN   \n",
      "4                          NaN                          NaN        NaN   \n",
      "\n",
      "   total_ghg_excluding_lucf  trade_co2  trade_co2_share  \n",
      "0                       NaN        NaN              NaN  \n",
      "1                       NaN        NaN              NaN  \n",
      "2                       NaN        NaN              NaN  \n",
      "3                       NaN        NaN              NaN  \n",
      "4                       NaN        NaN              NaN  \n",
      "\n",
      "[5 rows x 79 columns]\n",
      "               year    population           gdp    cement_co2  \\\n",
      "count  50191.000000  4.101900e+04  1.525100e+04  28863.000000   \n",
      "mean    1919.883067  5.686141e+07  3.300495e+11      7.767746   \n",
      "std       65.627296  3.199905e+08  3.086385e+12     62.595292   \n",
      "min     1750.000000  2.150000e+02  4.998000e+07      0.000000   \n",
      "25%     1875.000000  3.273130e+05  7.874038e+09      0.000000   \n",
      "50%     1924.000000  2.289522e+06  2.743861e+10      0.000000   \n",
      "75%     1974.000000  9.862459e+06  1.212625e+11      0.486000   \n",
      "max     2023.000000  8.091735e+09  1.301130e+14   1696.308000   \n",
      "\n",
      "       cement_co2_per_capita           co2  co2_growth_abs  co2_growth_prct  \\\n",
      "count           25358.000000  29137.000000    26981.000000     26002.000000   \n",
      "mean                0.059036    415.698178        6.208882        43.104462   \n",
      "std                 0.120328   1945.843973       62.322553      1729.939596   \n",
      "min                 0.000000      0.000000    -1977.750000      -100.000000   \n",
      "25%                 0.000000      0.374000       -0.005000        -1.102500   \n",
      "50%                 0.001000      4.990000        0.044000         3.803500   \n",
      "75%                 0.075750     53.273000        1.002000        10.890750   \n",
      "max                 2.484000  37791.570000     1865.208000    180870.000000   \n",
      "\n",
      "       co2_including_luc  co2_including_luc_growth_abs  ...  \\\n",
      "count       23585.000000                  23285.000000  ...   \n",
      "mean          535.581202                      7.214604  ...   \n",
      "std          2202.219657                     99.347980  ...   \n",
      "min           -99.693000                  -2325.500000  ...   \n",
      "25%             6.418000                     -0.908000  ...   \n",
      "50%            27.691000                      0.078000  ...   \n",
      "75%           123.959000                      2.620000  ...   \n",
      "max         41416.480000                   2340.184000  ...   \n",
      "\n",
      "       share_global_other_co2  share_of_temperature_change_from_ghg  \\\n",
      "count             2108.000000                          41001.000000   \n",
      "mean                 7.512655                              2.269285   \n",
      "std                 17.671054                              9.315325   \n",
      "min                  0.000000                             -0.810000   \n",
      "25%                  0.204750                              0.004000   \n",
      "50%                  0.838000                              0.078000   \n",
      "75%                  3.211000                              0.359000   \n",
      "max                100.000000                            100.000000   \n",
      "\n",
      "       temperature_change_from_ch4  temperature_change_from_co2  \\\n",
      "count                 38060.000000                 41001.000000   \n",
      "mean                      0.003026                     0.007670   \n",
      "std                       0.016519                     0.043694   \n",
      "min                      -0.001000                     0.000000   \n",
      "25%                       0.000000                     0.000000   \n",
      "50%                       0.000000                     0.000000   \n",
      "75%                       0.001000                     0.001000   \n",
      "max                       0.422000                     1.161000   \n",
      "\n",
      "       temperature_change_from_ghg  temperature_change_from_n2o     total_ghg  \\\n",
      "count                 41001.000000                 38060.000000  37410.000000   \n",
      "mean                      0.011023                     0.000509    488.542225   \n",
      "std                       0.061901                     0.003043   2392.579910   \n",
      "min                      -0.001000                     0.000000    -14.961000   \n",
      "25%                       0.000000                     0.000000      1.835000   \n",
      "50%                       0.000000                     0.000000     15.007500   \n",
      "75%                       0.001000                     0.000000     78.242750   \n",
      "max                       1.668000                     0.085000  53816.852000   \n",
      "\n",
      "       total_ghg_excluding_lucf    trade_co2  trade_co2_share  \n",
      "count              37236.000000  4535.000000      4535.000000  \n",
      "mean                 316.133529    -7.232399        20.524440  \n",
      "std                 1839.602293   250.640012        52.744956  \n",
      "min                    0.000000 -2195.952000       -98.849000  \n",
      "25%                    0.235000    -3.179500        -6.168000  \n",
      "50%                    2.371000     1.518000         8.701000  \n",
      "75%                   29.337500     9.153500        32.666000  \n",
      "max                44114.785000  1798.999000       568.635000  \n",
      "\n",
      "[8 rows x 77 columns]\n"
     ]
    }
   ],
   "execution_count": 8
  },
  {
   "metadata": {
    "ExecuteTime": {
     "end_time": "2025-06-30T13:46:47.151951Z",
     "start_time": "2025-06-30T13:46:47.082997Z"
    }
   },
   "cell_type": "code",
   "source": [
    "initial_rows, initial_cols = df.shape\n",
    "print(df.shape)\n",
    "\n",
    "# Remove columns where 80% of values are NaN\n",
    "col_threshold = len(df) * 0.2\n",
    "df_cleaned = df.dropna(axis=1, thresh=col_threshold)\n",
    "# Remove rows where 80% of data columns (excluding country, year, iso_code) are NaN\n",
    "data_columns = [col for col in df_cleaned.columns if col not in ['country', 'year', 'iso_code']]\n",
    "row_threshold = len(data_columns)*0.2\n",
    "df_cleaned = df_cleaned.dropna(subset=data_columns, thresh=row_threshold)\n",
    "\n",
    "# Calculate rows and columns removed\n",
    "rows_removed = initial_rows - df_cleaned.shape[0]\n",
    "cols_removed = initial_cols - df_cleaned.shape[1]\n",
    "\n",
    "# Print number of rows and columns removed\n",
    "print(f\"Rows removed: {rows_removed}\")\n",
    "print(f\"Columns removed: {cols_removed}\")\n",
    "print(df_cleaned.shape)"
   ],
   "id": "2899495d8077126c",
   "outputs": [
    {
     "name": "stdout",
     "output_type": "stream",
     "text": [
      "(50191, 79)\n",
      "Rows removed: 10254\n",
      "Columns removed: 12\n",
      "(39937, 67)\n"
     ]
    }
   ],
   "execution_count": 20
  },
  {
   "metadata": {
    "ExecuteTime": {
     "end_time": "2025-06-30T13:47:00.134849Z",
     "start_time": "2025-06-30T13:46:59.989614Z"
    }
   },
   "cell_type": "code",
   "source": [
    "summary = df_cleaned.describe()\n",
    "print(summary)"
   ],
   "id": "9836037410b04528",
   "outputs": [
    {
     "name": "stdout",
     "output_type": "stream",
     "text": [
      "              year    population           gdp    cement_co2  \\\n",
      "count  39937.00000  3.798700e+04  1.517700e+04  23993.000000   \n",
      "mean    1933.75236  5.987013e+07  3.316313e+11      9.344377   \n",
      "std       54.94974  3.315761e+08  3.093818e+12     68.547537   \n",
      "min     1750.00000  2.220000e+02  4.998000e+07      0.000000   \n",
      "25%     1889.00000  4.033020e+05  7.983138e+09      0.000000   \n",
      "50%     1936.00000  2.673148e+06  2.771730e+10      0.027000   \n",
      "75%     1981.00000  1.037377e+07  1.224810e+11      0.853000   \n",
      "max     2023.00000  8.091735e+09  1.301130e+14   1696.308000   \n",
      "\n",
      "       cement_co2_per_capita           co2  co2_growth_abs  co2_growth_prct  \\\n",
      "count           23312.000000  26746.000000    26408.000000     25912.000000   \n",
      "mean                0.064217    320.886697        6.338519        43.244840   \n",
      "std                 0.124165   1729.985821       62.988454      1732.939733   \n",
      "min                 0.000000      0.000000    -1977.750000      -100.000000   \n",
      "25%                 0.000000      0.390000       -0.007000        -1.130250   \n",
      "50%                 0.005000      4.521500        0.050000         3.829000   \n",
      "75%                 0.087000     43.983500        1.063000        10.931000   \n",
      "max                 2.484000  37791.570000     1865.208000    180870.000000   \n",
      "\n",
      "       co2_including_luc  co2_including_luc_growth_abs  ...  \\\n",
      "count       23585.000000                  23285.000000  ...   \n",
      "mean          535.581202                      7.214604  ...   \n",
      "std          2202.219657                     99.347980  ...   \n",
      "min           -99.693000                  -2325.500000  ...   \n",
      "25%             6.418000                     -0.908000  ...   \n",
      "50%            27.691000                      0.078000  ...   \n",
      "75%           123.959000                      2.620000  ...   \n",
      "max         41416.480000                   2340.184000  ...   \n",
      "\n",
      "       share_global_gas_co2  share_global_luc_co2  share_global_oil_co2  \\\n",
      "count          15034.000000          36571.000000          23592.000000   \n",
      "mean               4.199124              2.652447              3.347746   \n",
      "std               16.723014             10.340705             13.070303   \n",
      "min                0.000000             -8.182000              0.000000   \n",
      "25%                0.000000              0.001000              0.006000   \n",
      "50%                0.025000              0.083000              0.068000   \n",
      "75%                0.487750              0.542000              0.546000   \n",
      "max              100.000000            100.000000            100.000000   \n",
      "\n",
      "       share_of_temperature_change_from_ghg  temperature_change_from_ch4  \\\n",
      "count                          38086.000000                 37142.000000   \n",
      "mean                               2.181219                     0.002842   \n",
      "std                                9.049519                     0.016248   \n",
      "min                               -0.810000                    -0.001000   \n",
      "25%                                0.009000                     0.000000   \n",
      "50%                                0.090000                     0.000000   \n",
      "75%                                0.394000                     0.001000   \n",
      "max                              100.000000                     0.422000   \n",
      "\n",
      "       temperature_change_from_co2  temperature_change_from_ghg  \\\n",
      "count                 38086.000000                 38086.000000   \n",
      "mean                      0.007365                     0.010665   \n",
      "std                       0.042509                     0.060835   \n",
      "min                       0.000000                    -0.001000   \n",
      "25%                       0.000000                     0.000000   \n",
      "50%                       0.000000                     0.000000   \n",
      "75%                       0.001000                     0.002000   \n",
      "max                       1.161000                     1.668000   \n",
      "\n",
      "       temperature_change_from_n2o     total_ghg  total_ghg_excluding_lucf  \n",
      "count                 37142.000000  36939.000000              36766.000000  \n",
      "mean                      0.000463    448.788133                288.054200  \n",
      "std                       0.002915   2313.765043               1761.274469  \n",
      "min                       0.000000    -14.961000                  0.000000  \n",
      "25%                       0.000000      1.836500                  0.235000  \n",
      "50%                       0.000000     14.641000                  2.307000  \n",
      "75%                       0.000000     74.554500                 27.310750  \n",
      "max                       0.085000  53816.852000              44114.785000  \n",
      "\n",
      "[8 rows x 65 columns]\n"
     ]
    }
   ],
   "execution_count": 21
  },
  {
   "metadata": {
    "ExecuteTime": {
     "end_time": "2025-06-30T13:47:09.949684Z",
     "start_time": "2025-06-30T13:47:08.820327Z"
    }
   },
   "cell_type": "code",
   "source": "df_cleaned.to_csv('C:\\\\Users\\\\athar\\PycharmProjects\\Data_Analytics\\\\4_Dataset_Cleaned.csv', index=False)",
   "id": "4a535f8360a6adea",
   "outputs": [
    {
     "name": "stderr",
     "output_type": "stream",
     "text": [
      "<>:1: SyntaxWarning: invalid escape sequence '\\P'\n",
      "<>:1: SyntaxWarning: invalid escape sequence '\\P'\n",
      "C:\\Users\\athar\\AppData\\Local\\Temp\\ipykernel_1728\\1689925427.py:1: SyntaxWarning: invalid escape sequence '\\P'\n",
      "  df_cleaned.to_csv('C:\\\\Users\\\\athar\\PycharmProjects\\Data_Analytics\\\\4_Dataset_Cleaned.csv', index=False)\n"
     ]
    }
   ],
   "execution_count": 22
  }
 ],
 "metadata": {
  "kernelspec": {
   "display_name": "Python 3",
   "language": "python",
   "name": "python3"
  },
  "language_info": {
   "codemirror_mode": {
    "name": "ipython",
    "version": 2
   },
   "file_extension": ".py",
   "mimetype": "text/x-python",
   "name": "python",
   "nbconvert_exporter": "python",
   "pygments_lexer": "ipython2",
   "version": "2.7.6"
  }
 },
 "nbformat": 4,
 "nbformat_minor": 5
}
